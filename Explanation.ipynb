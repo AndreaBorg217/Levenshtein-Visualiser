{
 "cells": [
  {
   "cell_type": "markdown",
   "metadata": {},
   "source": [
    "# <u>The Levenshtein Algorithm</u>\n",
    "##### The Levenshtein algorithm is used to determine the optimum edit distance between 2 strings; meaning the least minimum number of operations required to turn one of the strings into the other.\n"
   ]
  },
  {
   "cell_type": "markdown",
   "metadata": {},
   "source": [
    "\n",
    "> #### <u>Allowed operations</u>\n",
    "    > The 3 allowed operations are the following:\n",
    "    \n",
    "        1. Insertion of a character;\n",
    "\n",
    "        2. Deletion of a character;\n",
    "\n",
    "        3. Substitution of a character\n",
    "\n"
   ]
  },
  {
   "cell_type": "markdown",
   "metadata": {},
   "source": [
    "\n",
    "\n",
    "> #### <u>The 4 cases</u>\n",
    "    > A pair of strings (String a & String b) will fall under one of the following cases:\n",
    "\n",
    "        1. The last character of a & b are the same or;\n",
    "\n",
    "        2. a & b are of the same length or;\n",
    "\n",
    "        3. a is longer than b or;\n",
    "\n",
    "        4. a is shorter than b\n"
   ]
  },
  {
   "cell_type": "markdown",
   "metadata": {},
   "source": [
    "\n",
    "> #### <u>Calculating the edit distance using a matrix</u>\n",
    "> A matrix can be used to calculate the edit distance. Each cell in the matrix represents a subproblem; a string composed of itself & the preceding characters in the string.\n",
    "> <br><br>\n",
    "> \n",
    "> ##### <u>Method</u> \n",
    "> - ε & the source string is placed along the x axis of the matrix.  \n",
    "> \n",
    "> - ε the target string is placed on the y axis of the matrix.  \n",
    "> \n",
    "> - The first row & column are filled with the indexes of the strings since to turn ε into a substring of length n, n insertions are required\n",
    "> \n",
    "> - The rest of the matrix is filled as follows:\n",
    "> \n",
    ">   - Each row of the matrix is traversed & the character in that row is compared with the character stored in the column corresponding to that cell\n",
    "> \n",
    ">       - If the characters are the same, the value to the top left diagonal of the current cell is copied into the current cell since no operation is required to turn a character z into itself\n",
    "> \n",
    ">       - Otherwise the increment (because an operation was performed) of the smallest of the value above, to the left & the top left diagonal of the current cell is entered into the current cell\n",
    "> \n",
    ">           - The cell to the left of the current cell represents a deletion\n",
    "> \n",
    ">           - The cell above the current cell represents an insertion\n",
    "> \n",
    ">           - The cell at the top left diagonal of  the current cell represents a substitution\n",
    "> \n",
    "> <div><center><img src=\"Screenshots/cells_explained.png\" width=\"600\"></center></div>\n",
    "> \n",
    ">  - When all the cells have been filled, the rightmost cell of the final row will contain the optimum edit distance.\n",
    "> <br><br>\n",
    "> \n",
    "> ##### <u>Time & Space Complexity</u>\n",
    "> Let x = length of source string <br>\n",
    "> Let y = length of target string <br><br>\n",
    "> ∴ The time complexity of this algorithm is O(xy) because a matrix of width x and height y will be traversed <br>\n",
    "> ∴ The space complexity is O(xy) because a matrix of width x and height y will be created <br><br>\n",
    "> The space complexity can be improved because only the row above and the column to the left of the current cell are needed to compute the current cell\n",
    "> <br><br>\n",
    "> \n",
    "> ##### <u>Example of matrix usage</u>\n",
    "> <div><center><img src=\"Screenshots/matrix_explained.png\" ></center></div>\n"
   ]
  },
  {
   "cell_type": "markdown",
   "metadata": {},
   "source": [
    ">#### The algorithm in Python "
   ]
  },
  {
   "cell_type": "code",
   "execution_count": null,
   "metadata": {},
   "outputs": [],
   "source": [
    "def Lev(x, y):\n",
    "    i = len(x)\n",
    "    j = len(y)\n",
    "\n",
    "## BASE CASES\n",
    "    if(i == 0):\n",
    "        return j  # if x is ε, all the characters in y need to be inserted into x for it to become y  \n",
    "    \n",
    "    elif(j == 0): # if y is ε, all the characters in x need to be inserted into y for it to become x\n",
    "        return i\n",
    "\n",
    "## CASE 1\n",
    "# if the last character of x & y are the same, no operation is to be performed & hence the edit distance is that of the \n",
    "# Levenshtein Algorithm passed substrings of x & y without their last character\n",
    "    elif(x[i-1] == y[j-1]):\n",
    "        \n",
    "        return Lev(x[0 : i-1], y[0 : j-1]) \n",
    "\n",
    "# CASE 2\n",
    "# if the last characters of x & y aren't the same & the lengths of x & y are =, a substitution is to be performed on the last character (the +1 at the end)\n",
    "# & hence the edit distance is that of the Levenshtein Algorithm passed substrings of x & y without their last character; \n",
    "# as the last character has been dealt with by the +1      \n",
    "    elif(i == j):\n",
    "        return Lev(x[0 :i-1] , y[0 : j-1]) + 1\n",
    "\n",
    "# CASE 3\n",
    "# if the last characters of x & y aren't the same & the length of x > length of y, a deletion is to be performed on the last character of x (the +1 at the end)\n",
    "# & hence the edit distance is that of the Levenshtein Algorithm passed a substring of x without the last character as it has been dealt with by the +1 & y;\n",
    "    elif(i>j):\n",
    "        return Lev(x[0 : i-1], y[0 : j]) + 1\n",
    "        \n",
    "# CASE 4        \n",
    "# if the last characters of x & y aren't the same & the length of x < length of y, an insertion is to be performed on the last character of y (the +1 at the end)\n",
    "# & hence the edit distance is that of the Levenshtein Algorithm passed x & a substring of y without the last character as it has been dealt with by the +1;\n",
    "    return Lev(x[0 : i], y[0 : j-1]) + 1\n",
    "\n",
    "Lev(\"google\", \"goggles\")"
   ]
  },
  {
   "cell_type": "code",
   "execution_count": null,
   "metadata": {},
   "outputs": [],
   "source": [
    "if(i == 0):\n",
    "        return j  # if x is ε, all the characters in y need to be inserted into x for it to become y  \n",
    "    \n",
    "    elif(j == 0): # if y is ε, all the characters in x need to be inserted into y for it to become x\n",
    "        return i"
   ]
  }
 ],
 "metadata": {
  "kernelspec": {
   "display_name": "Python 3.9.12 ('base')",
   "language": "python",
   "name": "python3"
  },
  "language_info": {
   "codemirror_mode": {
    "name": "ipython",
    "version": 3
   },
   "file_extension": ".py",
   "mimetype": "text/x-python",
   "name": "python",
   "nbconvert_exporter": "python",
   "pygments_lexer": "ipython3",
   "version": "3.9.12"
  },
  "orig_nbformat": 4,
  "vscode": {
   "interpreter": {
    "hash": "5602fe96eef3148e922c9a365b40cc58a0d24b0bb8dedddf0357a4964f342ef6"
   }
  }
 },
 "nbformat": 4,
 "nbformat_minor": 2
}
